{
 "cells": [
  {
   "cell_type": "markdown",
   "metadata": {},
   "source": [
    "# LAB 1: Write a program to demonstrate the NumPy array and perform functions on it."
   ]
  },
  {
   "cell_type": "markdown",
   "metadata": {},
   "source": [
    "## Installing NumPy"
   ]
  },
  {
   "cell_type": "code",
   "execution_count": 2,
   "metadata": {},
   "outputs": [
    {
     "name": "stdout",
     "output_type": "stream",
     "text": [
      "Requirement already satisfied: numpy in c:\\users\\student\\anaconda3\\lib\\site-packages (1.16.2)\n",
      "Collecting numpy\n",
      "  Downloading numpy-1.21.6-cp37-cp37m-win_amd64.whl (14.0 MB)\n",
      "Installing collected packages: numpy\n",
      "  Attempting uninstall: numpy\n",
      "    Found existing installation: numpy 1.16.2\n",
      "    Uninstalling numpy-1.16.2:\n",
      "      Successfully uninstalled numpy-1.16.2\n",
      "Successfully installed numpy-1.21.6\n"
     ]
    },
    {
     "name": "stderr",
     "output_type": "stream",
     "text": [
      "ERROR: pip's dependency resolver does not currently take into account all the packages that are installed. This behaviour is the source of the following dependency conflicts.\n",
      "tables 3.5.1 requires mock>=2.0, which is not installed.\n",
      "WARNING: You are using pip version 21.3.1; however, version 22.2.2 is available.\n",
      "You should consider upgrading via the 'c:\\users\\student\\anaconda3\\python.exe -m pip install --upgrade pip' command.\n"
     ]
    }
   ],
   "source": [
    "! pip install numpy --upgrade"
   ]
  },
  {
   "cell_type": "code",
   "execution_count": 3,
   "metadata": {},
   "outputs": [],
   "source": [
    "import numpy as np"
   ]
  },
  {
   "cell_type": "markdown",
   "metadata": {},
   "source": [
    "# NumPy array creation - 1\n"
   ]
  },
  {
   "cell_type": "code",
   "execution_count": 12,
   "metadata": {},
   "outputs": [
    {
     "name": "stdout",
     "output_type": "stream",
     "text": [
      "[[[ 0  1  2  3  4]\n",
      "  [ 5  6  7  8  9]]\n",
      "\n",
      " [[10 11 12 13 14]\n",
      "  [15 16 17 18 19]]]\n"
     ]
    }
   ],
   "source": [
    "a = np.arange(20).reshape(2,2,5) \n",
    "print(a)\n",
    "# arange - start range from 0 to 15\n",
    "#reshape - shape the number into n-dimension"
   ]
  },
  {
   "cell_type": "markdown",
   "metadata": {},
   "source": [
    "# Attributes of numpy array"
   ]
  },
  {
   "cell_type": "code",
   "execution_count": 19,
   "metadata": {},
   "outputs": [
    {
     "name": "stdout",
     "output_type": "stream",
     "text": [
      "Dimension of an array a =  3\n",
      "no of colm and rows in array a=  (2, 2, 5)\n",
      "Size of array a =  20\n",
      "Data type of array a =  int32\n",
      "Item size of a =  4\n",
      "Memory location of array a =  <memory at 0x000001CA5CDE5E58>\n"
     ]
    }
   ],
   "source": [
    "# ndim - to check the dimensions of array \n",
    "print(\"Dimension of an array a = \", a.ndim)\n",
    "\n",
    "\n",
    "#check the shape of array\n",
    "print(\"no of colm and rows in array a= \", a.shape)\n",
    "\n",
    "#check the total no of elements in array\n",
    "print(\"Size of array a = \", a.size)\n",
    "\n",
    "#check the data type of array element\n",
    "print(\"Data type of array a = \",a.dtype)\n",
    "\n",
    "#check item size(each element takes how many bytes of data)\n",
    "print(\"Item size of a = \",a.itemsize)\n",
    "\n",
    "#check the memory location for array\n",
    "print(\"Memory location of array a = \", a.data)"
   ]
  },
  {
   "cell_type": "markdown",
   "metadata": {},
   "source": [
    "# Array creation using array()"
   ]
  },
  {
   "cell_type": "code",
   "execution_count": 27,
   "metadata": {},
   "outputs": [
    {
     "name": "stdout",
     "output_type": "stream",
     "text": [
      "1-d array  [3 2 1]\n",
      "\n",
      " 2-d array\n",
      "  [[1 2 3 4]\n",
      " [5 6 7 8]\n",
      " [1 3 8 0]]\n",
      "3\n"
     ]
    }
   ],
   "source": [
    "#1-d array\n",
    "a = np.array([3,2,1])\n",
    "print(\"1-d array \", a)\n",
    "\n",
    "#2-d array \n",
    "a1 = np.array([(1,2,3,4),(5,6,7,8),(1,3,8,0)])\n",
    "print(\"\\n 2-d array\\n \" ,a1)\n",
    "\n",
    "\n",
    "#3-d array\n",
    "a2 = np.array([[(1,2),(3,4),(5,6),(8,0)]])\n",
    "print(a2.ndim)"
   ]
  },
  {
   "cell_type": "markdown",
   "metadata": {},
   "source": [
    "# Type conversion in array"
   ]
  },
  {
   "cell_type": "code",
   "execution_count": 29,
   "metadata": {},
   "outputs": [
    {
     "name": "stdout",
     "output_type": "stream",
     "text": [
      "[[1.  3.  5.6]\n",
      " [2.  5.  9. ]]\n"
     ]
    }
   ],
   "source": [
    "#implicit conversion (system decided)\n",
    "\n",
    "d = np.array([[1,3,5.6],[2,5,9]])\n",
    "print(d)"
   ]
  },
  {
   "cell_type": "code",
   "execution_count": 32,
   "metadata": {},
   "outputs": [
    {
     "name": "stdout",
     "output_type": "stream",
     "text": [
      "[['1' '3' '5.6']\n",
      " ['2' '5' '9']]\n"
     ]
    }
   ],
   "source": [
    "#explict conversion(user decided)\n",
    "\n",
    "d = np.array([[1,3,5.6],[2,5,9]],dtype='str') #int/float/complex\n",
    "print(d)\n"
   ]
  },
  {
   "cell_type": "markdown",
   "metadata": {},
   "source": [
    "# Unique or standard array creation in numpy"
   ]
  },
  {
   "cell_type": "code",
   "execution_count": 41,
   "metadata": {},
   "outputs": [
    {
     "name": "stdout",
     "output_type": "stream",
     "text": [
      "[[0. 0.]]\n",
      "<memory at 0x000001CA635132D0>\n"
     ]
    }
   ],
   "source": [
    "# zeros array\n",
    "\n",
    "z=np.zeros((1,2))\n",
    "print(z)\n",
    "print(z.data)"
   ]
  },
  {
   "cell_type": "code",
   "execution_count": 42,
   "metadata": {},
   "outputs": [
    {
     "name": "stdout",
     "output_type": "stream",
     "text": [
      "[[1. 1. 1.]\n",
      " [1. 1. 1.]]\n",
      "<memory at 0x000001CA635132D0>\n"
     ]
    }
   ],
   "source": [
    "#ones array\n",
    "\n",
    "z1=np.ones((2,3))\n",
    "print(z1)\n",
    "print(z.data)"
   ]
  },
  {
   "cell_type": "code",
   "execution_count": 44,
   "metadata": {},
   "outputs": [
    {
     "name": "stdout",
     "output_type": "stream",
     "text": [
      "[[6.23042070e-307 4.67296746e-307 1.69121096e-306]\n",
      " [1.86921958e-306 1.78020848e-306 1.42418987e-306]\n",
      " [1.37961641e-306 1.86906204e-306 1.08225056e-312]]\n",
      "<memory at 0x000001CA635132D0>\n"
     ]
    }
   ],
   "source": [
    "#empty array\n",
    "\n",
    "z2=np.empty((3,3))\n",
    "print(z2)\n",
    "print(z.data)"
   ]
  },
  {
   "cell_type": "markdown",
   "metadata": {},
   "source": [
    "# NumPy arange()"
   ]
  },
  {
   "cell_type": "code",
   "execution_count": 46,
   "metadata": {},
   "outputs": [
    {
     "name": "stdout",
     "output_type": "stream",
     "text": [
      "[ 10  15  20  25  30  35  40  45  50  55  60  65  70  75  80  85  90  95\n",
      " 100 105]\n"
     ]
    }
   ],
   "source": [
    "#arange fuc creates range from lower to upper-step and it will increment as per step, by defalut=1\n",
    "#np.arrange(lower,upper,step)\n",
    "\n",
    "l = np.arange(10,110,5)\n",
    "print(l)"
   ]
  },
  {
   "cell_type": "code",
   "execution_count": 48,
   "metadata": {},
   "outputs": [
    {
     "name": "stdout",
     "output_type": "stream",
     "text": [
      "[0.   0.12 0.24 0.36 0.48 0.6  0.72 0.84 0.96 1.08 1.2  1.32 1.44 1.56\n",
      " 1.68 1.8  1.92]\n",
      "17\n"
     ]
    }
   ],
   "source": [
    "#can't predict the no of elements \n",
    "m = np.arange(0,2,0.12)\n",
    "print(m)\n",
    "print(m.size)"
   ]
  },
  {
   "cell_type": "markdown",
   "metadata": {},
   "source": [
    "# Linspace() in NumPy"
   ]
  },
  {
   "cell_type": "code",
   "execution_count": 52,
   "metadata": {},
   "outputs": [
    {
     "name": "stdout",
     "output_type": "stream",
     "text": [
      "[ 0.          3.4906585   6.98131701 10.47197551 13.96263402 17.45329252\n",
      " 20.94395102 24.43460953 27.92526803 31.41592654]\n"
     ]
    }
   ],
   "source": [
    "# linspace = (lower, upper, no.of elements)\n",
    "from math import pi\n",
    "m= np.linspace(0,10*pi,10)\n",
    "print(m)\n",
    "\n",
    "#in linspace -- upper bound included\n",
    "#in arange -- upper bound neglected"
   ]
  },
  {
   "cell_type": "markdown",
   "metadata": {},
   "source": [
    "# Basic operation on numpy"
   ]
  },
  {
   "cell_type": "code",
   "execution_count": 60,
   "metadata": {},
   "outputs": [
    {
     "name": "stdout",
     "output_type": "stream",
     "text": [
      "[[ 4  9]\n",
      " [16 81]]\n"
     ]
    }
   ],
   "source": [
    "a = np.array([[20,5],[10,2]])\n",
    "b = np.array([[2,3],[4,9]])\n",
    "\n",
    "print(b**2)"
   ]
  },
  {
   "cell_type": "code",
   "execution_count": 61,
   "metadata": {},
   "outputs": [
    {
     "data": {
      "text/plain": [
       "array([[ 0.91294525, -0.95892427],\n",
       "       [-0.54402111,  0.90929743]])"
      ]
     },
     "execution_count": 61,
     "metadata": {},
     "output_type": "execute_result"
    }
   ],
   "source": [
    "np.sin(a)"
   ]
  },
  {
   "cell_type": "code",
   "execution_count": 62,
   "metadata": {},
   "outputs": [
    {
     "name": "stdout",
     "output_type": "stream",
     "text": [
      "[[ True False]\n",
      " [ True False]]\n"
     ]
    }
   ],
   "source": [
    "print(a>7)"
   ]
  },
  {
   "cell_type": "code",
   "execution_count": 63,
   "metadata": {},
   "outputs": [
    {
     "name": "stdout",
     "output_type": "stream",
     "text": [
      "[[40 15]\n",
      " [40 18]]\n"
     ]
    }
   ],
   "source": [
    "print(a*b) #elementwise"
   ]
  },
  {
   "cell_type": "code",
   "execution_count": 64,
   "metadata": {},
   "outputs": [
    {
     "name": "stdout",
     "output_type": "stream",
     "text": [
      "[[ 60 105]\n",
      " [ 28  48]]\n"
     ]
    }
   ],
   "source": [
    "print(a@b) #matrixwise"
   ]
  },
  {
   "cell_type": "code",
   "execution_count": 67,
   "metadata": {},
   "outputs": [
    {
     "name": "stdout",
     "output_type": "stream",
     "text": [
      "[[ 60 105]\n",
      " [ 28  48]]\n"
     ]
    }
   ],
   "source": [
    "print(a.dot(b)) #dot product"
   ]
  }
 ],
 "metadata": {
  "kernelspec": {
   "display_name": "Python 3",
   "language": "python",
   "name": "python3"
  },
  "language_info": {
   "codemirror_mode": {
    "name": "ipython",
    "version": 3
   },
   "file_extension": ".py",
   "mimetype": "text/x-python",
   "name": "python",
   "nbconvert_exporter": "python",
   "pygments_lexer": "ipython3",
   "version": "3.7.3"
  }
 },
 "nbformat": 4,
 "nbformat_minor": 2
}
